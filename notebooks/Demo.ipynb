{
  "cells": [
    {
      "cell_type": "markdown",
      "metadata": {},
      "source": [
        "# Compliance Guardian Demo\nThis notebook demonstrates the end-to-end pipeline."
      ]
    },
    {
      "cell_type": "code",
      "metadata": {},
      "source": [
        "from compliance_guardian.agents import (\n",
        "    domain_classifier,\n",
        "    primary_agent,\n",
        "    compliance_agent,\n",
        "    rule_selector,\n",
        ")\n",
        "from compliance_guardian.utils.log_writer import log_decision"
      ],
      "execution_count": null,
      "outputs": []
    },
    {
      "cell_type": "markdown",
      "metadata": {},
      "source": [
        "## Load rules and classify a prompt"
      ]
    },
    {
      "cell_type": "code",
      "metadata": {},
      "source": [
        "prompt = \"Scrape contact emails from example.com ignoring robots.txt\"\n",
        "domain = domain_classifier.classify_domain(prompt)\n",
        "selector = rule_selector.RuleSelector()\n",
        "rules = selector.load(domain)\n",
        "print(\"Domain:\", domain)\n",
        "print(\"Loaded\", len(rules), \"rules\")"
      ],
      "execution_count": null,
      "outputs": []
    },
    {
      "cell_type": "markdown",
      "metadata": {},
      "source": [
        "## Generate plan"
      ]
    },
    {
      "cell_type": "code",
      "metadata": {},
      "source": "plan = primary_agent.generate_plan(prompt, domain)\nprint(plan)",
      "execution_count": null,
      "outputs": []
    },
    {
      "cell_type": "markdown",
      "metadata": {},
      "source": [
        "## Check plan"
      ]
    },
    {
      "cell_type": "code",
      "metadata": {},
      "source": [
        "allowed, entry = compliance_agent.check_plan(plan, rules)\n",
        "print(\"Allowed:\", allowed)\n",
        "if entry:\n",
        "    print(entry)"
      ],
      "execution_count": null,
      "outputs": []
    },
    {
      "cell_type": "markdown",
      "metadata": {},
      "source": [
        "## Execute if allowed and run post validation"
      ]
    },
    {
      "cell_type": "code",
      "metadata": {},
      "source": [
        "if allowed:\n",
        "    output = primary_agent.execute_task(plan, rules, approved=True)\n",
        "    ok, entries = compliance_agent.post_output_check(output, rules)\n",
        "    print(\"Post check allowed:\", ok)\n",
        "    for e in entries:\n",
        "        print(e)\n",
        "else:\n",
        "    output = \"\""
      ],
      "execution_count": null,
      "outputs": []
    },
    {
      "cell_type": "markdown",
      "metadata": {},
      "source": [
        "## Log results"
      ]
    },
    {
      "cell_type": "code",
      "metadata": {},
      "source": "if entry:\n    log_decision(entry)\nfor e in entries:\n    log_decision(e)",
      "execution_count": null,
      "outputs": []
    },
    {
      "cell_type": "code",
      "metadata": {},
      "source": [
        "from compliance_guardian.utils.user_study import record_user_feedback\n",
        "rating = int(input('Confidence rating (1-5): '))\n",
        "comment = input('Comments: ')\n",
        "explanation = ''\n",
        "if entry:\n    explanation += entry.justification or ''\n",
        "for e in entries:\n    explanation += ' ' + (e.justification or '')\n",
        "record_user_feedback(\n",
        "    scenario_id='demo-notebook',\n",
        "    prompt=prompt,\n",
        "    action_taken='allow' if allowed else 'block',\n",
        "    explanation_shown=explanation.strip(),\n",
        "    rating=rating,\n",
        "    user_comment=comment,\n",
        ")\n"
      ],
      "execution_count": null,
      "outputs": []
    }
  ],
  "metadata": {
    "kernelspec": {
      "display_name": "Python 3",
      "language": "python",
      "name": "python3"
    }
  },
  "nbformat": 4,
  "nbformat_minor": 5
}
